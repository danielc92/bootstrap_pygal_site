{
 "cells": [
  {
   "cell_type": "markdown",
   "metadata": {},
   "source": [
    "## Bootstrap generate album pages"
   ]
  },
  {
   "cell_type": "markdown",
   "metadata": {},
   "source": [
    "### Data Sources\n",
    "- https://www.flaticon.com"
   ]
  },
  {
   "cell_type": "markdown",
   "metadata": {},
   "source": [
    "## Setup"
   ]
  },
  {
   "cell_type": "markdown",
   "metadata": {},
   "source": [
    "### Import modules"
   ]
  },
  {
   "cell_type": "code",
   "execution_count": 1,
   "metadata": {},
   "outputs": [],
   "source": [
    "import os\n",
    "import pandas\n",
    "import bs4\n",
    "import math\n",
    "import datetime"
   ]
  },
  {
   "cell_type": "markdown",
   "metadata": {},
   "source": [
    "### Set Variables"
   ]
  },
  {
   "cell_type": "code",
   "execution_count": 2,
   "metadata": {},
   "outputs": [],
   "source": [
    "items_per_page = 4\n",
    "svg = True\n",
    "colour_theme = \"primary\"\n",
    "jumbotron_text = \"light\"\n",
    "logo_dimensions_number = 44\n",
    "logo_dimensions = str(logo_dimensions_number)"
   ]
  },
  {
   "cell_type": "code",
   "execution_count": 3,
   "metadata": {},
   "outputs": [],
   "source": [
    "data_path = \"/users/danielcorcoran/Desktop/pygalsite/bootstrap_pygal_site/pygal/\""
   ]
  },
  {
   "cell_type": "code",
   "execution_count": 4,
   "metadata": {},
   "outputs": [
    {
     "data": {
      "text/plain": [
       "'pygal/'"
      ]
     },
     "execution_count": 4,
     "metadata": {},
     "output_type": "execute_result"
    }
   ],
   "source": [
    "data_path_items = data_path.split(\"/\")\n",
    "data_path_short = data_path_items[len(data_path_items) - 2] + \"/\"\n",
    "data_path_short"
   ]
  },
  {
   "cell_type": "markdown",
   "metadata": {},
   "source": [
    "## Calculate page level details"
   ]
  },
  {
   "cell_type": "markdown",
   "metadata": {},
   "source": [
    "### Create lists to store items for each page as well as all filenames "
   ]
  },
  {
   "cell_type": "code",
   "execution_count": 5,
   "metadata": {},
   "outputs": [],
   "source": [
    "filename_list = []\n",
    "all_filenames = []"
   ]
  },
  {
   "cell_type": "markdown",
   "metadata": {},
   "source": [
    "### Add all filenames to list and sort them"
   ]
  },
  {
   "cell_type": "code",
   "execution_count": 6,
   "metadata": {
    "scrolled": true
   },
   "outputs": [],
   "source": [
    "# CREATE LIST CONTAINING ALL FILENAMES\n",
    "\n",
    "for filename in os.listdir(data_path):\n",
    "    if \".png\" in filename or \".jpg\" in filename or \".svg\" in filename:\n",
    "        all_filenames.append(filename)\n",
    "    \n",
    "all_filenames = sorted(all_filenames)"
   ]
  },
  {
   "cell_type": "markdown",
   "metadata": {},
   "source": [
    "### Work out total items "
   ]
  },
  {
   "cell_type": "code",
   "execution_count": 7,
   "metadata": {},
   "outputs": [],
   "source": [
    "total_items = len(all_filenames)"
   ]
  },
  {
   "cell_type": "markdown",
   "metadata": {},
   "source": [
    "### Work out excess items"
   ]
  },
  {
   "cell_type": "code",
   "execution_count": 8,
   "metadata": {},
   "outputs": [
    {
     "name": "stdout",
     "output_type": "stream",
     "text": [
      "excess items 2\n"
     ]
    }
   ],
   "source": [
    "excess_items = total_items % items_per_page\n",
    "print(\"excess items\",excess_items)"
   ]
  },
  {
   "cell_type": "markdown",
   "metadata": {},
   "source": [
    "### Work out how many pages required "
   ]
  },
  {
   "cell_type": "code",
   "execution_count": 9,
   "metadata": {},
   "outputs": [
    {
     "name": "stdout",
     "output_type": "stream",
     "text": [
      "total pages 5\n"
     ]
    }
   ],
   "source": [
    "# CALCULATE HOW MANY PAGES WILL BE REQUIRED\n",
    "\n",
    "if excess_items > 0:\n",
    "    total_pages = math.floor(total_items/items_per_page) + 1\n",
    "else:\n",
    "    total_pages = total_items/items_per_page\n",
    "    \n",
    "print(\"total pages\", total_pages)\n",
    "\n",
    "total_pages = int(total_pages)"
   ]
  },
  {
   "cell_type": "code",
   "execution_count": 10,
   "metadata": {},
   "outputs": [],
   "source": [
    "index_starter = 0\n",
    "\n",
    "# CALCULATE GROUPINGS OF FILES PER PAGE AND STORE IN A LIST OF LISTS\n",
    "\n",
    "if total_pages > 0:\n",
    "    for index in range(total_pages):\n",
    "        small_list = all_filenames[index_starter: index_starter + items_per_page]\n",
    "        filename_list.append(small_list)\n",
    "        index_starter = index_starter + items_per_page"
   ]
  },
  {
   "cell_type": "code",
   "execution_count": 11,
   "metadata": {
    "scrolled": true
   },
   "outputs": [
    {
     "data": {
      "text/plain": [
       "[['pygalchart_20180627_163816.svg',\n",
       "  'pygalchart_20180627_163823.svg',\n",
       "  'pygalchart_20180627_163826.svg',\n",
       "  'pygalchart_20180627_163828.svg'],\n",
       " ['pygalchart_20180627_163830.svg',\n",
       "  'pygalchart_20180627_163832.svg',\n",
       "  'pygalchart_20180627_163834.svg',\n",
       "  'pygalchart_20180627_163836.svg'],\n",
       " ['pygalchart_20180627_163838.svg',\n",
       "  'pygalchart_20180627_163839.svg',\n",
       "  'pygalchart_20180627_163841.svg',\n",
       "  'pygalchart_20180627_163842.svg'],\n",
       " ['pygalchart_20180627_163844.svg',\n",
       "  'pygalchart_20180627_163845.svg',\n",
       "  'pygalchart_20180627_163847.svg',\n",
       "  'pygalchart_20180627_163849.svg'],\n",
       " ['pygalchart_20180627_163851.svg', 'pygalchart_20180627_163854.svg']]"
      ]
     },
     "execution_count": 11,
     "metadata": {},
     "output_type": "execute_result"
    }
   ],
   "source": [
    "filename_list"
   ]
  },
  {
   "cell_type": "markdown",
   "metadata": {},
   "source": [
    "## Generate pages"
   ]
  },
  {
   "cell_type": "markdown",
   "metadata": {},
   "source": [
    "### Jumbotron - Variable"
   ]
  },
  {
   "cell_type": "code",
   "execution_count": 12,
   "metadata": {},
   "outputs": [],
   "source": [
    "jumbotron_home = '''\n",
    "<div class=\"jumbotron jumbotron-fluid text-'''+jumbotron_text+''' text-center bg-'''+colour_theme+'''\">\n",
    "      <div class=\"container\">\n",
    "        <h1 class=\"display-2\">\n",
    "          Daniels Generated Album\n",
    "        </h1>\n",
    "        <p class=\"lead\">\n",
    "          Something short and leading about the collection below—its contents, the creator, etc. Make it short and sweet, but not too short so folks don't simply skip over it entirely.\n",
    "        </p>\n",
    "        <p>\n",
    "          <a class=\"btn btn-outline-light my-2\" href=\"#\">\n",
    "          Primary\n",
    "          </a>\n",
    "          <a class=\"btn btn-outline-light my-2\" href=\"#\">\n",
    "          Secondary\n",
    "          </a>\n",
    "        </p>\n",
    "      </div>\n",
    "    </div>\n",
    "'''\n",
    "\n",
    "jumbotron_empty = ''"
   ]
  },
  {
   "cell_type": "markdown",
   "metadata": {},
   "source": [
    "### Pagination - Variable"
   ]
  },
  {
   "cell_type": "raw",
   "metadata": {},
   "source": [
    "pagination = '<div class = \"text-center pb-4 text-muted bg-light\">\\\n",
    "  <div class = \"btn-group\">\\\n",
    "    <a href = \"{}{}.html\" class = \"btn btn-outline-primary {}\">First</a>\\\n",
    "    <a href = \"{}{}.html\" class = \"btn btn-outline-primary {}\">Previous</a>\\\n",
    "    <a class = \"btn btn-outline-primary active\">Page {}</a>\\\n",
    "    <a href = \"{}{}.html\" class = \"btn btn-outline-primary {}\">Next</a>\\\n",
    "    <a href = \"{}{}.html\"class = \"btn btn-outline-primary {}\">Last</a>\\\n",
    "  </div>\\\n",
    "</div>'"
   ]
  },
  {
   "cell_type": "code",
   "execution_count": 13,
   "metadata": {},
   "outputs": [],
   "source": [
    "page_prefix = \"index\"\n",
    "\n",
    "pagination = '<div class = \"text-center pb-4 text-muted bg-light\">\\\n",
    "  <div class = \"btn-group\">\\\n",
    "    <a href = \"{}{}.html\" class = \"btn btn-outline-'+colour_theme+' {}\">First</a>\\\n",
    "    <a href = \"{}{}.html\" class = \"btn btn-outline-'+colour_theme+' {}\">Previous</a>\\\n",
    "    <a class = \"btn btn-outline-'+colour_theme+' active\">Page {}</a>\\\n",
    "    <a href = \"{}{}.html\" class = \"btn btn-outline-'+colour_theme+' {}\">Next</a>\\\n",
    "    <a href = \"{}{}.html\" class = \"btn btn-outline-'+colour_theme+' {}\">Last</a>\\\n",
    "  </div>\\\n",
    "</div>'\n",
    "\n",
    "pagination2 = '<div class = \"text-center pb-4 text-muted bg-light\">\\\n",
    "  <div class = \"btn-group\">\\\n",
    "    <a class = \"btn btn-outline-primary active\">Page {}</a>\\\n",
    "  </div>\\\n",
    "</div>'"
   ]
  },
  {
   "cell_type": "code",
   "execution_count": 14,
   "metadata": {},
   "outputs": [
    {
     "data": {
      "text/plain": [
       "'<div class = \"text-center pb-4 text-muted bg-light\">  <div class = \"btn-group\">    <a href = \"{}{}.html\" class = \"btn btn-outline-primary {}\">First</a>    <a href = \"{}{}.html\" class = \"btn btn-outline-primary {}\">Previous</a>    <a class = \"btn btn-outline-primary active\">Page {}</a>    <a href = \"{}{}.html\" class = \"btn btn-outline-primary {}\">Next</a>    <a href = \"{}{}.html\" class = \"btn btn-outline-primary {}\">Last</a>  </div></div>'"
      ]
     },
     "execution_count": 14,
     "metadata": {},
     "output_type": "execute_result"
    }
   ],
   "source": [
    "pagination"
   ]
  },
  {
   "cell_type": "markdown",
   "metadata": {},
   "source": [
    "### Skeleton"
   ]
  },
  {
   "cell_type": "code",
   "execution_count": 15,
   "metadata": {},
   "outputs": [],
   "source": [
    "skeleton = '''\n",
    "<!DOCTYPE html>\n",
    "<html lang=\"en\">\n",
    "  <head>\n",
    "    <meta charset=\"utf-8\"/>\n",
    "    <meta content=\"width=device-width, initial-scale=1, shrink-to-fit=no\" name=\"viewport\"/>\n",
    "    <meta content=\"\" name=\"description\"/>\n",
    "    <meta content=\"\" name=\"author\"/>\n",
    "    <link href=\"../../../../favicon.ico\" rel=\"icon\"/>\n",
    "    <title>\n",
    "      Daniels Generated Gallery\n",
    "    </title>\n",
    "    <!-- Bootstrap CSS -->\n",
    "    <link crossorigin=\"anonymous\" href=\"https://stackpath.bootstrapcdn.com/bootstrap/4.1.1/css/bootstrap.min.css\" integrity=\"sha384-WskhaSGFgHYWDcbwN70/dfYBj47jz9qbsMId/iRN3ewGhXQFZCSftd1LZCfmhktB\" rel=\"stylesheet\"/>\n",
    "    <!-- Custom styles for this template -->\n",
    "    <link href=\"album.css\" rel=\"stylesheet\"/>\n",
    "  </head>\n",
    "  <body class = \"bg-light\">\n",
    "    <header class = \"bg-dark\">\n",
    "      <div class = \"container\">\n",
    "      <nav class=\"navbar navbar-expand-lg navbar-dark bg-dark py-3\">\n",
    "          <a class = \"navbar-brand\" href=\"#\">\n",
    "            <img src=\"logo/analytics.svg\" width=\"'''+logo_dimensions+'''\" height=\"'''+logo_dimensions+'''\" class=\"d-inline-block\" alt=\"\">\n",
    "          </a>\n",
    "        <button aria-controls=\"navbarColor03\" aria-expanded=\"false\" aria-label=\"Toggle navigation\" class=\"navbar-toggler collapsed\" data-target=\"#navbarColor03\" data-toggle=\"collapse\" type=\"button\">\n",
    "        <span class=\"navbar-toggler-icon\">\n",
    "        </span>\n",
    "        </button>\n",
    "        <div class=\"navbar-collapse collapse\" id=\"navbarColor03\" style=\"\">\n",
    "          <ul class=\"navbar-nav mr-auto\">\n",
    "            <li class=\"nav-item active\">\n",
    "              <a class=\"nav-link\" href=\"index0.html\">\n",
    "              Home\n",
    "              <span class=\"sr-only\">\n",
    "              (current)\n",
    "              </span>\n",
    "              </a>\n",
    "            </li>\n",
    "            <li class=\"nav-item\">\n",
    "              <a class=\"nav-link\" href=\"#\">\n",
    "              About\n",
    "              </a>\n",
    "            </li>\n",
    "            <li class=\"nav-item\">\n",
    "              <a class=\"nav-link\" href=\"#\">\n",
    "              Contact Us\n",
    "              </a>\n",
    "            </li>\n",
    "          </ul>\n",
    "        </div>\n",
    "      </nav>\n",
    "      </div>\n",
    "    </header>\n",
    "    \n",
    "    \n",
    "    {}\n",
    "    \n",
    "    \n",
    "    \n",
    "    <div class=\"album bg-light\">\n",
    "      <div class=\"container\">\n",
    "        <div class=\"row\">\n",
    "          \n",
    "          {}\n",
    "        \n",
    "        \n",
    "        </div>\n",
    "      </div>\n",
    "    </div>\n",
    "    \n",
    "    {}\n",
    "    \n",
    "    <footer class=\"bg-dark text-light py-3\">\n",
    "      <div class=\"container\">\n",
    "        <span>&copy; Copyright DanielsGenerator</span>\n",
    "        <span class=\"float-right\">\n",
    "        <a href=\"#\">\n",
    "        Back to top\n",
    "        </a>\n",
    "        </span>\n",
    "      </div>\n",
    "    </footer>\n",
    "    <!-- Optional JavaScript -->\n",
    "    <!-- jQuery first, then Popper.js, then Bootstrap JS -->\n",
    "    <script crossorigin=\"anonymous\" integrity=\"sha384-q8i/X+965DzO0rT7abK41JStQIAqVgRVzpbzo5smXKp4YfRvH+8abtTE1Pi6jizo\" src=\"https://code.jquery.com/jquery-3.3.1.slim.min.js\"></script>\n",
    "    <script crossorigin=\"anonymous\" integrity=\"sha384-ZMP7rVo3mIykV+2+9J3UJ46jBk0WLaUAdn689aCwoqbBJiSnjAK/l8WvCWPIPm49\" src=\"https://cdnjs.cloudflare.com/ajax/libs/popper.js/1.14.3/umd/popper.min.js\"></script>\n",
    "    <script crossorigin=\"anonymous\" integrity=\"sha384-smHYKdLADwkXOn1EmN1qk/HfnUcbVRZyYmZ4qpPea6sjB/pTJ0euyQp0Mk8ck+5T\" src=\"https://stackpath.bootstrapcdn.com/bootstrap/4.1.1/js/bootstrap.min.js\"></script>\n",
    "  </body>\n",
    "</html>\n",
    "'''"
   ]
  },
  {
   "cell_type": "raw",
   "metadata": {},
   "source": []
  },
  {
   "cell_type": "code",
   "execution_count": null,
   "metadata": {},
   "outputs": [],
   "source": []
  },
  {
   "cell_type": "markdown",
   "metadata": {},
   "source": [
    "### Calculate first and last page index"
   ]
  },
  {
   "cell_type": "code",
   "execution_count": 16,
   "metadata": {},
   "outputs": [],
   "source": [
    "first_index = 0\n",
    "last_index = len(filename_list) - 1\n",
    "nothing = ''\n",
    "disabled = 'disabled'"
   ]
  },
  {
   "cell_type": "markdown",
   "metadata": {},
   "source": [
    "### SVG flag, if True use object tag, if false use img tag"
   ]
  },
  {
   "cell_type": "code",
   "execution_count": 17,
   "metadata": {},
   "outputs": [],
   "source": [
    "# REACT TO SVG FLAG, WHETHER OR NOT TO USE SVG OR PNG/JPG IN ALBUM\n",
    "\n",
    "if svg == True:\n",
    "    visual_tag_start = '<object class = \"p-3\" type=\"image/svg+xml\" data=\"'\n",
    "    visual_tag_end = '\">Your browser does not support SVG</object>'\n",
    "else:\n",
    "    visual_tag_start = '<img class=\"card-img-top p-3\" src=\"'\n",
    "    visual_tag_end = '\" alt=\"Card image cap\">'"
   ]
  },
  {
   "cell_type": "markdown",
   "metadata": {},
   "source": [
    "## Generate"
   ]
  },
  {
   "cell_type": "code",
   "execution_count": 18,
   "metadata": {},
   "outputs": [],
   "source": [
    "# PAGE LEVEL LOOP\n",
    "for index in range(len(filename_list)):\n",
    "    \n",
    "    # WORK OUT INDEX FOR PAGES LATERALLY\n",
    "    previous_index = index -1\n",
    "    next_index = index +1\n",
    "    \n",
    "    body_final = ''\n",
    "    page_items = filename_list[index]\n",
    "    page_number = index + 1\n",
    "\n",
    "    #PAGINATION\n",
    "    if total_pages == 1:\n",
    "        pagination_final = pagination2.format(page_number)\n",
    "    else:\n",
    "        if index ==0:\n",
    "            pagination_final = pagination.format(page_prefix, first_index,disabled,page_prefix,  previous_index, disabled, page_number,\n",
    "                                                page_prefix, next_index, nothing, page_prefix, last_index, nothing)\n",
    "        elif index == last_index:\n",
    "            pagination_final = pagination.format(page_prefix, first_index, nothing, page_prefix, previous_index, nothing, page_number,\n",
    "                                                page_prefix, next_index, disabled, page_prefix, last_index, disabled)\n",
    "        else:\n",
    "            pagination_final = pagination.format(page_prefix,first_index, nothing,page_prefix, previous_index, nothing, page_number,\n",
    "                                                page_prefix, next_index, nothing, page_prefix, last_index, nothing)\n",
    "    \n",
    "    if index == 0:\n",
    "        jumbotron_final = jumbotron_home\n",
    "    else:\n",
    "        jumbotron_final = jumbotron_empty\n",
    "    \n",
    "    # FILE LEVEL LOOP\n",
    "    for sub_index in range(len(page_items)):\n",
    "        \n",
    "        filename = page_items[sub_index]\n",
    "        \n",
    "        # IF ITEM IS ON FIRST ROW SET TOP MARGIN TO 4 ELSE NO MARGIN\n",
    "        if sub_index <=3:\n",
    "            optional_top_margin = 'mt-4'\n",
    "        else:\n",
    "            optional_top_margin = ''\n",
    "            \n",
    "        filename_short = filename.replace(\".png\", \"\")\n",
    "\n",
    "        body_final = body_final + '<div class = \"col-lg-6\">\\\n",
    "                  <div class=\"card mb-4 ' + optional_top_margin+'\">\\\n",
    "                  ' + visual_tag_start + data_path_short + filename + visual_tag_end + '\\\n",
    "                    <div class=\"card-body\">\\\n",
    "                      <h4 class = \"text-'+colour_theme+'\">'+filename_short+'</h4>\\\n",
    "                      <p class=\"card-text\">Some information about this card.</p>\\\n",
    "                        <div class=\"btn-group\">\\\n",
    "                          <a class=\"btn btn-sm btn-outline-'+colour_theme+'\" href=\"'+data_path_short + filename+'\" role=\"button\">View</a>\\\n",
    "                          <a class=\"btn btn-sm btn-outline-'+colour_theme+'\" href = \"'+data_path_short + filename+'\" download = \"'+filename+'\" role=\"button\">Download</a>\\\n",
    "                        </div></div>\\\n",
    "                        <div class = \"p-3 bg-light\">\\\n",
    "                        <span class = \"badge badge-pill badge-'+colour_theme+'\">analytics</span>\\\n",
    "                        <span class = \"badge badge-pill badge-'+colour_theme+'\">charts</span>\\\n",
    "                        <span class = \"badge badge-pill badge-'+colour_theme+'\">python</span>\\\n",
    "                        <span class = \"badge badge-pill badge-'+colour_theme+'\">bootstrap</span>\\\n",
    "                        </div>\\\n",
    "                      </div>\\\n",
    "                  </div>'\n",
    "    \n",
    "    # BUILD FULL HTML CODE ON PAGE LEVEL\n",
    "    full = skeleton.format(jumbotron_final, \n",
    "                           body_final, \n",
    "                           pagination_final)\n",
    "    \n",
    "    # PRETTIFY/FORMAT THE FULL HTML CODE\n",
    "    full_soup = bs4.BeautifulSoup(full, \"lxml\")\n",
    "    full_pretty = full_soup.prettify()\n",
    "    \n",
    "    #EXPORT HTML\n",
    "    with open(\"/users/danielcorcoran/desktop/pygalsite/bootstrap_pygal_site/index\"+str(index)+\".html\", \"w\") as fileobject:\n",
    "        fileobject.write(full_pretty)\n",
    "\n",
    "    fileobject.close()"
   ]
  },
  {
   "cell_type": "raw",
   "metadata": {},
   "source": []
  },
  {
   "cell_type": "code",
   "execution_count": null,
   "metadata": {},
   "outputs": [],
   "source": []
  }
 ],
 "metadata": {
  "kernelspec": {
   "display_name": "Python 3",
   "language": "python",
   "name": "python3"
  },
  "language_info": {
   "codemirror_mode": {
    "name": "ipython",
    "version": 3
   },
   "file_extension": ".py",
   "mimetype": "text/x-python",
   "name": "python",
   "nbconvert_exporter": "python",
   "pygments_lexer": "ipython3",
   "version": "3.6.5"
  },
  "toc": {
   "base_numbering": 1,
   "nav_menu": {},
   "number_sections": true,
   "sideBar": true,
   "skip_h1_title": false,
   "title_cell": "Table of Contents",
   "title_sidebar": "Contents",
   "toc_cell": false,
   "toc_position": {},
   "toc_section_display": true,
   "toc_window_display": false
  },
  "varInspector": {
   "cols": {
    "lenName": 16,
    "lenType": 16,
    "lenVar": 40
   },
   "kernels_config": {
    "python": {
     "delete_cmd_postfix": "",
     "delete_cmd_prefix": "del ",
     "library": "var_list.py",
     "varRefreshCmd": "print(var_dic_list())"
    },
    "r": {
     "delete_cmd_postfix": ") ",
     "delete_cmd_prefix": "rm(",
     "library": "var_list.r",
     "varRefreshCmd": "cat(var_dic_list()) "
    }
   },
   "types_to_exclude": [
    "module",
    "function",
    "builtin_function_or_method",
    "instance",
    "_Feature"
   ],
   "window_display": false
  }
 },
 "nbformat": 4,
 "nbformat_minor": 2
}
